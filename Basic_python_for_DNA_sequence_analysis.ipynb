{
  "nbformat": 4,
  "nbformat_minor": 0,
  "metadata": {
    "colab": {
      "provenance": [],
      "include_colab_link": true
    },
    "kernelspec": {
      "name": "python3",
      "display_name": "Python 3"
    },
    "language_info": {
      "name": "python"
    }
  },
  "cells": [
    {
      "cell_type": "markdown",
      "metadata": {
        "id": "view-in-github",
        "colab_type": "text"
      },
      "source": [
        "<a href=\"https://colab.research.google.com/github/LEGENDFTW19/DNA-sequence-Biopython/blob/main/Basic_python_for_DNA_sequence_analysis.ipynb\" target=\"_parent\"><img src=\"https://colab.research.google.com/assets/colab-badge.svg\" alt=\"Open In Colab\"/></a>"
      ]
    },
    {
      "cell_type": "markdown",
      "source": [
        "This notebook is based on Udemy's course, Machine Learning for Bioinformatics. Here, two tasks are implemented to demonstrate the utility of python programming languange for DNA sequence analysis -\n",
        "1. *Basic python Sequence Analysis*\n",
        "2. *Sequence Analysis using Biopython package*\n",
        "\n",
        "**Author: Tushar Singh**"
      ],
      "metadata": {
        "id": "329lzuF-Up4I"
      }
    },
    {
      "cell_type": "markdown",
      "source": [
        "# Task 1\n",
        "\n",
        "This section deals with the processes involved in doing **sequence analysis** using basic python, i.e. without using packages."
      ],
      "metadata": {
        "id": "-cDjSXBsVmdK"
      }
    },
    {
      "cell_type": "markdown",
      "source": [
        "### Part 1 - Counting base pairs\n",
        "\n",
        "The four bases in DNA are **Adenine(A), Thymine(T), Guanine(G) and Cytosine(C)**"
      ],
      "metadata": {
        "id": "e4C-gIHnWfqR"
      }
    },
    {
      "cell_type": "code",
      "source": [
        "# manually defined DNA sequence saved as a string\n",
        "DNA_string = \"3’-TACTCTCGTTCTTGCAGCTTGTCAGTACTTTCAGAATCATGGTGTGCATGGTAGAATGACTCTTATAACGAACTTCGACATGGCAATAACCCCCCGATT-5’\""
      ],
      "metadata": {
        "id": "tZvjW5fQXWJq"
      },
      "execution_count": null,
      "outputs": []
    },
    {
      "cell_type": "code",
      "execution_count": null,
      "metadata": {
        "id": "MgI7quSFUkET"
      },
      "outputs": [],
      "source": [
        "# define a function to count the different bases in the given DNA sequence\n",
        "def count_base_in_DNAseq(DNA_string): \n",
        "  \"\"\"\n",
        "  Args:\n",
        "    DNA_string: str, the DNA sequence \n",
        "\n",
        "  Returns: two dictonaries, one with the base count and the other with base \n",
        "           percentage in the given DNA sequence\n",
        "\n",
        "  \"\"\"\n",
        "  # count number of base pairs\n",
        "  base_dict={'A':0,'C':0,'T':0,'G':0}\n",
        "  for base in DNA_string:\n",
        "    for key,value in base_dict.items():\n",
        "      if base==key:\n",
        "        base_dict[key]=base_dict[key]+1\n",
        "\n",
        "  # calculate the ratio of base in the given DNA sequence\n",
        "  base_dict2={'A':0,'C':0,'T':0,'G':0}\n",
        "  for base in DNA_string:\n",
        "    for key,value in base_dict.items():\n",
        "      if base==key:\n",
        "        base_dict2[key]=(base_dict2[key]+1/len(DNA_string)) \n",
        "    \n",
        "  return base_dict, base_dict2"
      ]
    },
    {
      "cell_type": "code",
      "source": [
        "base_count, base_ratio = count_base_in_DNAseq(DNA_string)\n",
        "print(\"Base pair count: \", base_count)\n",
        "print(\"Base pair ratio: \", base_ratio)"
      ],
      "metadata": {
        "colab": {
          "base_uri": "https://localhost:8080/"
        },
        "id": "HyN1lJsIZBk4",
        "outputId": "986fda6b-b9fa-4c88-f788-e121196478b6"
      },
      "execution_count": null,
      "outputs": [
        {
          "output_type": "stream",
          "name": "stdout",
          "text": [
            "Base pair count:  {'A': 25, 'C': 24, 'T': 31, 'G': 19}\n",
            "Base pair ratio:  {'A': 0.238095238095238, 'C': 0.22857142857142848, 'T': 0.29523809523809524, 'G': 0.1809523809523809}\n"
          ]
        }
      ]
    },
    {
      "cell_type": "markdown",
      "source": [
        "### Part 2: Complementary base pairs\n",
        "\n",
        "In a DNA sequence, Complement of \t**adenine(A) is thymine(T) and of guanine(G) is cytosine(C)**"
      ],
      "metadata": {
        "id": "ZBt0sGa4cmtt"
      }
    },
    {
      "cell_type": "code",
      "source": [
        "# initialize string to store the complement \n",
        "DNA_complement =\"\"\n",
        "\n",
        "for base in DNA_string:\n",
        "\n",
        "  if base == \"T\":\n",
        "    base = \"A\"\n",
        "  elif base == \"A\":\n",
        "    base = \"T\"\n",
        "  elif base == \"C\":\n",
        "    base = \"G\"\n",
        "  elif base == \"G\":\n",
        "    base = \"C\"\n",
        "  elif base == \"3\":\n",
        "    base = \"5\"\n",
        "  elif base == \"5\":\n",
        "    base = \"3\"\n",
        "\n",
        "  DNA_complement = DNA_complement + base"
      ],
      "metadata": {
        "id": "2GFb6qDZbU7d"
      },
      "execution_count": null,
      "outputs": []
    },
    {
      "cell_type": "code",
      "source": [
        "print(\"The complement of \" + DNA_string + \" is \\n \", DNA_complement)"
      ],
      "metadata": {
        "colab": {
          "base_uri": "https://localhost:8080/"
        },
        "id": "2b7u4o5kfMgt",
        "outputId": "3ccf0b61-49c8-43fc-d9dc-0dd90efa6374"
      },
      "execution_count": null,
      "outputs": [
        {
          "output_type": "stream",
          "name": "stdout",
          "text": [
            "The complement of 3’-TACTCTCGTTCTTGCAGCTTGTCAGTACTTTCAGAATCATGGTGTGCATGGTAGAATGACTCTTATAACGAACTTCGACATGGCAATAACCCCCCGATT-5’is \n",
            "  5’-ATGAGAGCAAGAACGTCGAACAGTCATGAAAGTCTTAGTACCACACGTACCATCTTACTGAGAATATTGCTTGAAGCTGTACCGTTATTGGGGGGCTAA-3’\n"
          ]
        }
      ]
    },
    {
      "cell_type": "markdown",
      "source": [
        "### Part 3: Transcription\n",
        "In genomics, *transcription* is the process of making an RNA copy of a gene's DNA sequence. This copy, called messenger RNA (mRNA), carries the gene's protein information encoded in DNA.\n",
        "\n",
        "The transcription of DNA sequence can be obtained by simply **replacing the 'T' with 'U'**"
      ],
      "metadata": {
        "id": "1dl-gK04iam4"
      }
    },
    {
      "cell_type": "code",
      "source": [
        "# initialize string to store the transcription\n",
        "DNA_transcription =\"\"\n",
        "\n",
        "for base in DNA_string:\n",
        "  \n",
        "  if base == \"T\":\n",
        "    base = \"U\"\n",
        "\n",
        "  DNA_transcription = DNA_transcription + base  # concatenation"
      ],
      "metadata": {
        "id": "HUtMDwMsfhfM"
      },
      "execution_count": null,
      "outputs": []
    },
    {
      "cell_type": "code",
      "source": [
        "print(\"The transcription of \" + DNA_string + \" is \\n \", DNA_transcription)"
      ],
      "metadata": {
        "colab": {
          "base_uri": "https://localhost:8080/"
        },
        "id": "Qe_qf41Dk52a",
        "outputId": "7125ca12-cd76-4c85-dcc0-6805f3f038f9"
      },
      "execution_count": null,
      "outputs": [
        {
          "output_type": "stream",
          "name": "stdout",
          "text": [
            "The transcription of 3’-TACTCTCGTTCTTGCAGCTTGTCAGTACTTTCAGAATCATGGTGTGCATGGTAGAATGACTCTTATAACGAACTTCGACATGGCAATAACCCCCCGATT-5’is \n",
            "  3’-UACUCUCGUUCUUGCAGCUUGUCAGUACUUUCAGAAUCAUGGUGUGCAUGGUAGAAUGACUCUUAUAACGAACUUCGACAUGGCAAUAACCCCCCGAUU-5’\n"
          ]
        }
      ]
    },
    {
      "cell_type": "markdown",
      "source": [
        "### Part 4: Translation\n",
        "In molecular biology and genetics, *translation* is the process in which ribosomes in the cytoplasm or endoplasmic reticulum synthesize proteins after the process of transcription of DNA to RNA in the cell's nucleus. The entire process is called **gene expression**. "
      ],
      "metadata": {
        "id": "q-s3IbQnla1b"
      }
    },
    {
      "cell_type": "code",
      "source": [
        "# dictionary with all the RNA sequences and their corresponding amino acids\n",
        "\n",
        "RNA_seq_dict = {'UUU':'PHE','UUC':'PHE','UUA':'PHE','UUG':'PHE','UCU':'SER','UCC':\n",
        "'SER','UCA':'SER','UCG':'SER','UAU':'TYR','UAC':'TYR','UAA':'STOP','UAG':'STOP',\n",
        "'UGU':'CYS','UGC':'CYS','UGA':'STOP','UGG':'TRP','CUU':'LEU','CUC':'LEU','CUA':\n",
        "'LEU','CUG':'LEU','CCU':'PRO','CCC':'PRO','CCA':'PRO','CCG':'PRO','CAU':'HIS',\n",
        "'CAC':'HIS','CAA':'GLN','CAG':'GLN','CGU':'ARG','CGC':'ARG','CGA':'ARG','CGG':\n",
        "'ARG','AUU':'ILE','AUC':'ILE','AUA':'ILE','AUG':'MET','ACU':'THR','ACC':'THR'\n",
        ",'ACA':'THR','ACG':'THR','AAU':'ASN','AAC':'ASN','AAA':'LYS','AAG':'LYS','AGU'\n",
        ":'SER','AGC':'SER','AGA':'ARG','AGG':'ARG','GUU':'VAL','GUC':'VAL','GUA':'VAL',\n",
        "'GUG':'VAL','GCU':'ALA','GCC':'ALA','GCA':'ALA','GCG':'ALA','GAU':'ASP','GAC':\n",
        "'ASP','GAA':'GLU','GAG':'GLU','GGU':'GLY','GGC':'GLY','GGA':'GLY','GGG':'GLY'}\n"
      ],
      "metadata": {
        "id": "-bvDUcG3mZSC"
      },
      "execution_count": null,
      "outputs": []
    },
    {
      "cell_type": "code",
      "source": [
        "# manually defined RNA sequence string\n",
        "RNA_string = \"AUGAGAGCAAGAACGUCGAACAGUCAUGAAAGUCUUAGUACCACACGUACCAUCUUACUGAGAAUAUUGCUUGAAGCUGUACCGUUAUUGGGGGGCUAA\"\n",
        "\n",
        "RNA_translation = \"\"\n",
        "\n",
        "# counter to keep check of the length of the string\n",
        "counter = 0\n",
        "\n",
        "while counter < len(RNA_string)-2: # -2 because 3 characters are checked at a time\n",
        "  RNA_subscript = RNA_string[counter: counter+3]\n",
        "  for key,value in RNA_seq_dict.items():\n",
        "    if RNA_subscript == key:\n",
        "      RNA_subscript = value\n",
        "  RNA_translation = RNA_translation + RNA_subscript\n",
        "  counter = counter + 3"
      ],
      "metadata": {
        "id": "KSjRU3NnlJN2"
      },
      "execution_count": null,
      "outputs": []
    },
    {
      "cell_type": "code",
      "source": [
        "print(\"The translation of \" + RNA_string + \" is \\n \", RNA_translation)"
      ],
      "metadata": {
        "colab": {
          "base_uri": "https://localhost:8080/"
        },
        "id": "TDOHBpb4oZ4D",
        "outputId": "ed45ddcd-047e-456a-b544-53cd51f2bbf4"
      },
      "execution_count": null,
      "outputs": [
        {
          "output_type": "stream",
          "name": "stdout",
          "text": [
            "The translation of AUGAGAGCAAGAACGUCGAACAGUCAUGAAAGUCUUAGUACCACACGUACCAUCUUACUGAGAAUAUUGCUUGAAGCUGUACCGUUAUUGGGGGGCUAA is \n",
            "  METARGALAARGTHRSERASNSERHISGLUSERLEUSERTHRTHRARGTHRILEPHELEUARGILEPHELEUGLUALAVALPROPHEPHEGLYGLYSTOP\n"
          ]
        }
      ]
    },
    {
      "cell_type": "markdown",
      "source": [
        "# Task 2\n",
        "\n",
        "In this section the python library **'Biopython'** is used to perform sequence analysis, making the process faster and more efficient than the manual implementation in Task 1."
      ],
      "metadata": {
        "id": "MJH6IoAgpCka"
      }
    },
    {
      "cell_type": "code",
      "source": [
        "! pip install Bio"
      ],
      "metadata": {
        "id": "Eb6Zm2xrp3ea"
      },
      "execution_count": null,
      "outputs": []
    },
    {
      "cell_type": "code",
      "source": [
        "# import the Biopython libraries\n",
        "import Bio\n",
        "from Bio.Seq import Seq\n",
        "from Bio.SeqUtils import GC\n",
        "\n",
        "# initialize a DNA sequence\n",
        "DNA = Seq(\"AGTACACTGGTT\")\n",
        "\n",
        "# complement\n",
        "print(\"The given DNA sequence- \", DNA)\n",
        "print(\"The complement of the DNA sequence- \", DNA.complement())\n",
        "\n",
        "# count base pairs(Easier method)\n",
        "print(\"The base pair count for AC is \", DNA.count(\"AC\"))\n",
        "\n",
        "# base percent\n",
        "A_percent = (DNA.count(\"A\")/len(DNA))\n",
        "print(\"Percent of A in DNA is \", A_percent*100)\n",
        "\n",
        "# shorter method for base percebt\n",
        "print(\"GC percent in DNA \" + str(GC(DNA)))\n",
        "\n",
        "# transcribe\n",
        "mRNA = DNA.transcribe()\n",
        "print(\"Transcribe of DNA is \", mRNA)\n",
        "\n",
        "# translate\n",
        "amino_acids = mRNA.translate()\n",
        "print(\"Translate of mRNA is \", amino_acids)"
      ],
      "metadata": {
        "colab": {
          "base_uri": "https://localhost:8080/"
        },
        "id": "oFfXYth4pafk",
        "outputId": "34f2b6f5-4c30-474a-b28f-1e5ab0cd6b99"
      },
      "execution_count": null,
      "outputs": [
        {
          "output_type": "stream",
          "name": "stdout",
          "text": [
            "The given DNA sequence-  AGTACACTGGTT\n",
            "The complement of the DNA sequence-  TCATGTGACCAA\n",
            "The base pair count for AC is  2\n",
            "Percent of A in DNA is  25.0\n",
            "GC percent in DNA 41.666666666666664\n",
            "Transcribe of DNA is  AGUACACUGGUU\n",
            "Translate of mRNA is  STLV\n"
          ]
        }
      ]
    },
    {
      "cell_type": "markdown",
      "source": [
        "# Conclusions\n",
        "\n",
        "Thus, this notebook sucessfully illustrates the python programming language functionality for analysing DNA sequences. The python library, Biopython makes the entire analysis process compact and efficient when compared with the manual process of finding the DNA complement, transcription and translation. The use of built-in functions improves the readibility of the code."
      ],
      "metadata": {
        "id": "qPaEDDgh0Awj"
      }
    }
  ]
}